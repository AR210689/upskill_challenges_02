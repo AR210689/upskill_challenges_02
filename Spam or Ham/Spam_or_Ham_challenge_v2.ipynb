{
  "nbformat": 4,
  "nbformat_minor": 0,
  "metadata": {
    "colab": {
      "name": "Spam_or_Ham_challenge_v2.ipynb",
      "provenance": [],
      "collapsed_sections": []
    },
    "kernelspec": {
      "name": "python3",
      "display_name": "Python 3"
    },
    "language_info": {
      "name": "python"
    }
  },
  "cells": [
    {
      "cell_type": "markdown",
      "metadata": {
        "id": "kSZEkbMcsiPU"
      },
      "source": [
        "# Spam or Ham Challenge"
      ]
    },
    {
      "cell_type": "markdown",
      "metadata": {
        "id": "AAOo6KumJ5Oy"
      },
      "source": [
        "## Paste The Path To Your Data"
      ]
    },
    {
      "cell_type": "code",
      "metadata": {
        "id": "mPNnJVloJ9Kv"
      },
      "source": [
        "training_path=\"/content/spam_ham_training.csv\""
      ],
      "execution_count": null,
      "outputs": []
    },
    {
      "cell_type": "markdown",
      "metadata": {
        "id": "9v9Oc5CCIQ-e"
      },
      "source": [
        "## Import all the functions needed"
      ]
    },
    {
      "cell_type": "code",
      "metadata": {
        "id": "iVmQKH03EKqi"
      },
      "source": [
        "import nltk\n",
        "import pandas as pd\n",
        "from nltk.stem import WordNetLemmatizer\n",
        "from nltk.corpus import stopwords\n",
        "from nltk import pos_tag, word_tokenize\n",
        "from sklearn.model_selection import train_test_split\n",
        "from sklearn.feature_extraction.text import TfidfVectorizer\n",
        "from sklearn import svm\n",
        "from sklearn.metrics import confusion_matrix"
      ],
      "execution_count": null,
      "outputs": []
    },
    {
      "cell_type": "code",
      "metadata": {
        "id": "z1nBaPsKTcDA"
      },
      "source": [
        "nltk.download('stopwords')"
      ],
      "execution_count": null,
      "outputs": []
    },
    {
      "cell_type": "code",
      "metadata": {
        "id": "GsfLtJLpJKed"
      },
      "source": [
        "def review_messages(msg):\n",
        "    # converting messages to lowercase\n",
        "    msg = msg.lower()\n",
        "    return msg"
      ],
      "execution_count": null,
      "outputs": []
    },
    {
      "cell_type": "code",
      "metadata": {
        "id": "gU7nVpfwJnqG"
      },
      "source": [
        "# test against new messages \n",
        "def pred(msg):\n",
        "    msg = msg.lower()\n",
        "    msg = vectorizer.transform([msg])\n",
        "    prediction = svm.predict(msg)\n",
        "    return prediction[0]"
      ],
      "execution_count": null,
      "outputs": []
    },
    {
      "cell_type": "markdown",
      "metadata": {
        "id": "Ye7N01P7tPaw"
      },
      "source": [
        "## Load the data"
      ]
    },
    {
      "cell_type": "code",
      "metadata": {
        "id": "-F_iQV6BsgNy"
      },
      "source": [
        "data = pd.read_csv(training_path, encoding = \"latin-1\")"
      ],
      "execution_count": null,
      "outputs": []
    },
    {
      "cell_type": "code",
      "metadata": {
        "id": "Z7Pex-2rXA3p"
      },
      "source": [
        "data=data[['label','text']]"
      ],
      "execution_count": null,
      "outputs": []
    },
    {
      "cell_type": "code",
      "metadata": {
        "id": "brong2c3XMhT"
      },
      "source": [
        "data"
      ],
      "execution_count": null,
      "outputs": []
    },
    {
      "cell_type": "code",
      "metadata": {
        "colab": {
          "base_uri": "https://localhost:8080/"
        },
        "id": "_MfPC-LXIXm3",
        "outputId": "ebbad0ac-89a0-4bff-92d0-65eb140d1c90"
      },
      "source": [
        "ham_count=len(data[data['label']=='ham'])\n",
        "spam_count=len(data[data['label']=='spam'])\n",
        "unlabeled_count=len(data)-ham_count-spam_count\n",
        "print('Total number of messages left unlabled: ',unlabeled_count)"
      ],
      "execution_count": null,
      "outputs": [
        {
          "output_type": "stream",
          "name": "stdout",
          "text": [
            "Total number of messages left unlabled:  219\n"
          ]
        }
      ]
    },
    {
      "cell_type": "code",
      "metadata": {
        "id": "QhgeOgbCOBZo"
      },
      "source": [
        "# dropping all rows that are unlabeled\n",
        "data.dropna(inplace=True)"
      ],
      "execution_count": null,
      "outputs": []
    },
    {
      "cell_type": "code",
      "metadata": {
        "id": "UYt1RT0WXP59"
      },
      "source": [
        "data"
      ],
      "execution_count": null,
      "outputs": []
    },
    {
      "cell_type": "markdown",
      "metadata": {
        "id": "6sscUd6OJYH4"
      },
      "source": [
        "## Training"
      ]
    },
    {
      "cell_type": "code",
      "metadata": {
        "id": "y3BE1PyzEOwx"
      },
      "source": [
        "lemmatizer = WordNetLemmatizer()\n",
        "stopwords = set(stopwords.words('english'))\n",
        "# Processing text messages\n",
        "data['text'] = data['text'].apply(review_messages)"
      ],
      "execution_count": null,
      "outputs": []
    },
    {
      "cell_type": "code",
      "metadata": {
        "id": "9qMeSM0BEoZb"
      },
      "source": [
        "# train test split \n",
        "X_train, X_test, y_train, y_test = train_test_split(data['text'], data['label'], test_size = 0.3, random_state = 1)"
      ],
      "execution_count": null,
      "outputs": []
    },
    {
      "cell_type": "code",
      "metadata": {
        "id": "kFYSj1kdovYz"
      },
      "source": [
        "X_train.shape"
      ],
      "execution_count": null,
      "outputs": []
    },
    {
      "cell_type": "code",
      "metadata": {
        "id": "4c_MjwLgEqdc"
      },
      "source": [
        "# training vectorizer\n",
        "vectorizer = TfidfVectorizer()\n",
        "X_train = vectorizer.fit_transform(X_train)\n",
        "X_test = vectorizer.transform(X_test)"
      ],
      "execution_count": null,
      "outputs": []
    },
    {
      "cell_type": "code",
      "metadata": {
        "id": "yVeqHtono-Lc"
      },
      "source": [
        "X_train"
      ],
      "execution_count": null,
      "outputs": []
    },
    {
      "cell_type": "code",
      "metadata": {
        "id": "HlILEPVDpHTh"
      },
      "source": [
        "X_test"
      ],
      "execution_count": null,
      "outputs": []
    },
    {
      "cell_type": "code",
      "metadata": {
        "id": "u4UxLi4EEsY2"
      },
      "source": [
        "# training the classifier \n",
        "svm = svm.SVC(C=1)\n",
        "svm.fit(X_train, y_train)"
      ],
      "execution_count": null,
      "outputs": []
    },
    {
      "cell_type": "code",
      "metadata": {
        "id": "1i-fxvDvjjZm"
      },
      "source": [
        "y_predicted = svm.predict(X_test)"
      ],
      "execution_count": null,
      "outputs": []
    },
    {
      "cell_type": "code",
      "metadata": {
        "id": "y0JoA4pPtWDS"
      },
      "source": [
        "from sklearn.metrics import classification_report\n",
        "classification_report = classification_report(y_test,y_predicted,output_dict=True)"
      ],
      "execution_count": null,
      "outputs": []
    },
    {
      "cell_type": "code",
      "metadata": {
        "id": "mcjpvvn4wzs_"
      },
      "source": [
        "acc=classification_report['accuracy']"
      ],
      "execution_count": null,
      "outputs": []
    },
    {
      "cell_type": "code",
      "metadata": {
        "id": "iUPASyvsxbmj"
      },
      "source": [
        "#print('Your accuracy percentage is:',100*acc)"
      ],
      "execution_count": null,
      "outputs": []
    }
  ]
}